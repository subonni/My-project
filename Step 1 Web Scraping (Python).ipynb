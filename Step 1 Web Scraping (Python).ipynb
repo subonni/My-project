{
 "cells": [
  {
   "cell_type": "code",
   "execution_count": 19,
   "id": "4f603a9c-232b-436a-a795-68d737c5d487",
   "metadata": {},
   "outputs": [],
   "source": [
    "import pandas as pd\n",
    "import requests # for sending HTTP requests\n",
    "from bs4 import BeautifulSoup # for parsing HTML\n",
    "import csv"
   ]
  },
  {
   "cell_type": "code",
   "execution_count": 21,
   "id": "a10501e0-6873-450d-8288-75ccd24dd4ce",
   "metadata": {},
   "outputs": [],
   "source": [
    "url = 'https://www.amazon.com/s?k=electronics'\n",
    "headers = {\"User-Agent\": \"Mozilla/5.0\"}\n",
    "\n",
    "#Websites often block or restrict requests that look like they're coming from bots or scripts. \n",
    "#By default, requests.get() sends a generic header that can be flagged as suspicious.\n",
    "#The User-Agent string tells the server what kind of browser and device you're using. \n",
    "#\"Mozilla/5.0\" is a common, generic identifier for modern browsers like Chrome or Firefox.\n"
   ]
  },
  {
   "cell_type": "code",
   "execution_count": 23,
   "id": "17369537-09c2-4f25-9341-6a3e84dc5eb0",
   "metadata": {},
   "outputs": [
    {
     "data": {
      "text/plain": [
       "'<!--\\n        To discuss automated access to Amazon data please contact api-services-support@amazon.com.\\n        For information about migrating to our APIs refer to our Marketplace APIs at https://developer.amazonservices.com/ref=rm_5_sv, or our Product Advertising API at https://affiliate-program.amazon.com/gp/advertising/api/detail/main.html/ref=rm_5_ac for advertising use cases.\\n-->\\n<!doctype html>\\n<html>\\n<head>\\n  <meta charset=\"utf-8\">\\n  <meta http-equiv=\"x-ua-compatible\" content=\"ie=edge\">\\n  <meta name=\"viewport\" content=\"width=device-width, initial-scale=1, shrink-to-fit=no\">\\n  <title>Sorry! Something went wrong!</title>\\n  <style>\\n  html, body {\\n    padding: 0;\\n    margin: 0\\n  }\\n\\n  img {\\n    border: 0\\n  }\\n\\n  #a {\\n    background: #232f3e;\\n    padding: 11px 11px 11px 192px\\n  }\\n\\n  #b {\\n    position: absolute;\\n    left: 22px;\\n    top: 12px\\n  }\\n\\n  #c {\\n    position: relative;\\n    max-width: 800px;\\n    padding: 0 40px 0 0\\n  }\\n\\n  #e, #f {\\n    height: 35px;\\n    border: 0;\\n    font-size: 1em\\n  }\\n\\n  #e {\\n    width: 100%;\\n    margin: 0;\\n    padding: 0 10px;\\n    border-radius: 4px 0 0 4px\\n  }\\n\\n  #f {\\n    cursor: pointer;\\n    background: #febd69;\\n    font-weight: bold;\\n    border-radius: 0 4px 4px 0;\\n    -webkit-appearance: none;\\n    position: absolute;\\n    top: 0;\\n    right: 0;\\n    padding: 0 12px\\n  }\\n\\n  @media (max-width: 500px) {\\n    #a {\\n      padding: 55px 10px 10px\\n    }\\n\\n    #b {\\n      left: 6px\\n    }\\n  }\\n\\n  #g {\\n    text-align: center;\\n    margin: 30px 0\\n  }\\n\\n  #g img {\\n    max-width: 90%\\n  }\\n\\n  #d {\\n    display: none\\n  }\\n\\n  #d[src] {\\n    display: inline\\n  }\\n  </style>\\n</head>\\n<body>\\n    <a href=\"/ref=cs_503_logo\"><img id=\"b\" src=\"https://images-na.ssl-images-amazon.com/images/G/01/error/logo._TTD_.png\" alt=\"Amazon.com\"></a>\\n    <form id=\"a\" accept-charset=\"utf-8\" action=\"/s\" method=\"GET\" role=\"search\">\\n        <div id=\"c\">\\n            <input id=\"e\" name=\"field-keywords\" placeholder=\"Search\">\\n            <input name=\"ref\" type=\"hidden\" value=\"cs_503_search\">\\n            <input id=\"f\" type=\"submit\" value=\"Go\">\\n        </div>\\n    </form>\\n<div id=\"g\">\\n  <div><a href=\"/ref=cs_503_link\"><img src=\"https://images-na.ssl-images-amazon.com/images/G/01/error/500_503.png\"\\n                                        alt=\"Sorry! Something went wrong on our end. Please go back and try again or go to Amazon\\'s home page.\"></a>\\n  </div>\\n  <a href=\"/dogsofamazon/ref=cs_503_d\" target=\"_blank\" rel=\"noopener noreferrer\"><img id=\"d\" alt=\"Dogs of Amazon\"></a>\\n  <script>document.getElementById(\"d\").src = \"https://images-na.ssl-images-amazon.com/images/G/01/error/\" + (Math.floor(Math.random() * 43) + 1) + \"._TTD_.jpg\";</script>\\n</div>\\n</body>\\n</html>\\n'"
      ]
     },
     "execution_count": 23,
     "metadata": {},
     "output_type": "execute_result"
    }
   ],
   "source": [
    "data = requests.get(url).text\n",
    "data"
   ]
  },
  {
   "cell_type": "code",
   "execution_count": 25,
   "id": "1ed305fc-d884-42bb-a7fd-13967652c6b8",
   "metadata": {},
   "outputs": [],
   "source": [
    "soup = BeautifulSoup(data,'html.parser')\n",
    "#soup                     "
   ]
  },
  {
   "cell_type": "code",
   "execution_count": 27,
   "id": "9938bd12-fca4-4e75-af7d-cf119dcde0ef",
   "metadata": {},
   "outputs": [],
   "source": [
    "products = []\n",
    "\n",
    "for item in soup.select(\".s-result-item\"):\n",
    "    name = item.select_one(\"h2 span\")\n",
    "    price = item.select_one(\".a-price-whole\")\n",
    "    rating = item.select_one(\".a-icon-alt\")\n",
    "    reviews = item.select_one(\".a-size-base\")\n",
    "\n",
    "    if name and price and rating and reviews:\n",
    "        products.append([\n",
    "            name.text.strip(),\n",
    "            price.text.strip(),\n",
    "            rating.text.strip(),\n",
    "            reviews.text.strip()\n",
    "        ])\n",
    "\n",
    "# Save to CSV\n",
    "with open(\"retail_data.csv\", \"w\", newline=\"\", encoding=\"utf-8\") as f:\n",
    "    writer = csv.writer(f)\n",
    "    writer.writerow([\"Product Name\", \"Price\", \"Rating\", \"Reviews\"])\n",
    "    writer.writerows(products)\n"
   ]
  },
  {
   "cell_type": "code",
   "execution_count": 32,
   "id": "d0d7cbd2-80ff-4a22-ac4d-e2af69144a58",
   "metadata": {},
   "outputs": [
    {
     "data": {
      "text/html": [
       "<div>\n",
       "<style scoped>\n",
       "    .dataframe tbody tr th:only-of-type {\n",
       "        vertical-align: middle;\n",
       "    }\n",
       "\n",
       "    .dataframe tbody tr th {\n",
       "        vertical-align: top;\n",
       "    }\n",
       "\n",
       "    .dataframe thead th {\n",
       "        text-align: right;\n",
       "    }\n",
       "</style>\n",
       "<table border=\"1\" class=\"dataframe\">\n",
       "  <thead>\n",
       "    <tr style=\"text-align: right;\">\n",
       "      <th></th>\n",
       "      <th>Product Name</th>\n",
       "      <th>Price</th>\n",
       "      <th>Rating</th>\n",
       "      <th>Reviews</th>\n",
       "    </tr>\n",
       "  </thead>\n",
       "  <tbody>\n",
       "  </tbody>\n",
       "</table>\n",
       "</div>"
      ],
      "text/plain": [
       "Empty DataFrame\n",
       "Columns: [Product Name, Price, Rating, Reviews]\n",
       "Index: []"
      ]
     },
     "execution_count": 32,
     "metadata": {},
     "output_type": "execute_result"
    }
   ],
   "source": [
    "import pandas as pd\n",
    "\n",
    "# Load the CSV file\n",
    "df = pd.read_csv(\"retail_data.csv\")\n",
    "\n",
    "# Preview the first few rows\n",
    "df.head()"
   ]
  },
  {
   "cell_type": "code",
   "execution_count": null,
   "id": "bbfe2e73-a307-4bdd-b424-1c3a02b20283",
   "metadata": {},
   "outputs": [],
   "source": []
  }
 ],
 "metadata": {
  "kernelspec": {
   "display_name": "Python 3 (ipykernel)",
   "language": "python",
   "name": "python3"
  },
  "language_info": {
   "codemirror_mode": {
    "name": "ipython",
    "version": 3
   },
   "file_extension": ".py",
   "mimetype": "text/x-python",
   "name": "python",
   "nbconvert_exporter": "python",
   "pygments_lexer": "ipython3",
   "version": "3.12.4"
  }
 },
 "nbformat": 4,
 "nbformat_minor": 5
}
